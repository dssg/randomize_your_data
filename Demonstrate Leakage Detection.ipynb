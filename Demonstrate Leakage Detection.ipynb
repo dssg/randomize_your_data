{
 "cells": [
  {
   "cell_type": "markdown",
   "metadata": {},
   "source": [
    "Purpose: Demonstrate how leakage can be detected using a data randomization process.  \n",
    "Process: Create fake data using bernoulli GLM data-generating process. Intentionally leak information and then show that this code helps detect the leakage."
   ]
  },
  {
   "cell_type": "code",
   "execution_count": 4,
   "metadata": {
    "collapsed": true
   },
   "outputs": [],
   "source": [
    "import pandas as pd\n",
    "import sys\n",
    "import numpy as np\n",
    "import os\n"
   ]
  },
  {
   "cell_type": "code",
   "execution_count": 22,
   "metadata": {
    "collapsed": true
   },
   "outputs": [],
   "source": [
    "def randomize(filepath, index_col = None):\n",
    "    '''\n",
    "    Randomize column values of a file. Each column is randomized independently.\n",
    "    \n",
    "    Inputs:\n",
    "        filepath (str): path to file to randomize; may be of type csv or txt\n",
    "        index_col (str): optional name of column to use as index; will not be randomized\n",
    "    \n",
    "    Outputs:\n",
    "        df (dataframe): dataframe representation of randomized data\n",
    "        Output file will be generated, named as original file name + \"_randomized\"\n",
    "    '''\n",
    "    \n",
    "    # Treat csv and txt differently\n",
    "    filename, file_extension = os.path.splitext(filepath)\n",
    "    if file_extension == '.csv':\n",
    "        sep = \",\"\n",
    "    elif file_extension == '.txt':\n",
    "        sep = \"\\t\"\n",
    "        \n",
    "    # Randomize each column\n",
    "    df = pd.read_csv(filepath, sep = sep, index_col = index_col) \n",
    "    cols = df.columns\n",
    "    for col in cols:\n",
    "        print('Randomizing column ' + col)\n",
    "        np.random.shuffle(df[col])\n",
    "        \n",
    "    # Print to new csv or txt\n",
    "    new_file = filename + '_randomized' + file_extension\n",
    "    df.to_csv(new_file)   \n",
    "    \n",
    "    return df"
   ]
  },
  {
   "cell_type": "code",
   "execution_count": 35,
   "metadata": {},
   "outputs": [],
   "source": [
    "def generate_data(n):\n",
    "    '''\n",
    "    Generate n rows x 5 columns of random integers, drawn from discrete\n",
    "    uniform distribution between -10 and 10\n",
    "    Regression equation: y = intercept + x1 + x2 + x3 + x4 + x5 + error\n",
    "    Intercept is column of 1's to capture model intercept\n",
    "    Error is normally distributed with mean = 0 and variance = 1\n",
    "    \n",
    "    Inputs:\n",
    "        n (int): number of observations to generate\n",
    "    Outputs:\n",
    "        Output files will be generated: fake_data.csv and fake_data_no_outcome.csv\n",
    "    '''\n",
    "    print(\"Generating {} observations...\".format(n))\n",
    "    df = pd.DataFrame(np.random.randint(-10,10, size=(n,5)), \n",
    "                 columns=['x1', 'x2', 'x3', 'x4', 'x5'])\n",
    "    df['intercept'] = 1\n",
    "    df['actual_y'] = df.sum(axis = 1) + np.random.normal()\n",
    "    df.index.name = 'idx'\n",
    "    df.to_csv('fake_data.csv')\n",
    "    \n",
    "    df_no_actual = df.drop(['actual_y'], axis = 1)\n",
    "    df_no_actual.to_csv('fake_data_no_outcome.csv')\n",
    "    return df\n"
   ]
  },
  {
   "cell_type": "code",
   "execution_count": 36,
   "metadata": {
    "collapsed": true
   },
   "outputs": [],
   "source": [
    "def test_randomization(file_no_outcome, file_with_outcome, index_col = None):\n",
    "    ''' \n",
    "    Function to test the randomization function by comparing mean squared error \n",
    "    (MSE) before and after randomization\n",
    "    MSE = 1/n * sum((actual - predicted)**2)\n",
    "    '''\n",
    "    # Before randomization\n",
    "    orig_df = pd.read_csv(file_with_outcome, index_col = index_col)\n",
    "    \n",
    "    orig_df['pred_y'] = orig_df[['x1', 'x2', 'x3', 'x4', 'x5']].sum(axis = 1)\n",
    "    orig_df['sq_error'] = (orig_df['actual_y'] - orig_df['pred_y'])**2\n",
    "    orig_mse =  np.sum(orig_df['sq_error']) / orig_df.shape[0]\n",
    "    print('original mean squared error = ' + str(orig_mse))\n",
    "    \n",
    "    # After randomization\n",
    "    random_df = randomize(file_no_outcome, index_col)\n",
    "    random_df = random_df.join(orig_df['actual_y'], how='inner')\n",
    "    \n",
    "    random_df['pred_y'] = random_df[['x1', 'x2', 'x3', 'x4', 'x5']].sum(axis = 1)\n",
    "    random_df['sq_error'] = (random_df['actual_y'] - random_df['pred_y'])**2\n",
    "    random_mse =  np.sum(random_df['sq_error']) / random_df.shape[0]\n",
    "    print('random mean squared error = ' + str(random_mse))\n",
    "    \n",
    "    return random_df"
   ]
  },
  {
   "cell_type": "code",
   "execution_count": 37,
   "metadata": {},
   "outputs": [
    {
     "name": "stdout",
     "output_type": "stream",
     "text": [
      "Generating 100 observations...\n",
      "original mean squared error = 2.1487900900386587\n",
      "Randomizing column x1\n",
      "Randomizing column x2\n",
      "Randomizing column x3\n",
      "Randomizing column x4\n",
      "Randomizing column x5\n",
      "Randomizing column intercept\n",
      "random mean squared error = 295.96879009003874\n"
     ]
    }
   ],
   "source": [
    "generate_data(100)\n",
    "file_no_outcome = 'fake_data_no_outcome.csv'\n",
    "file_with_outcome = 'fake_data.csv'\n",
    "df = test_randomization(file_no_outcome, file_with_outcome, 'idx')"
   ]
  },
  {
   "cell_type": "code",
   "execution_count": null,
   "metadata": {
    "collapsed": true
   },
   "outputs": [],
   "source": []
  },
  {
   "cell_type": "code",
   "execution_count": null,
   "metadata": {},
   "outputs": [],
   "source": []
  },
  {
   "cell_type": "code",
   "execution_count": null,
   "metadata": {
    "collapsed": true
   },
   "outputs": [],
   "source": []
  },
  {
   "cell_type": "code",
   "execution_count": null,
   "metadata": {
    "collapsed": true
   },
   "outputs": [],
   "source": []
  }
 ],
 "metadata": {
  "kernelspec": {
   "display_name": "Python 3",
   "language": "python",
   "name": "python3"
  },
  "language_info": {
   "codemirror_mode": {
    "name": "ipython",
    "version": 3
   },
   "file_extension": ".py",
   "mimetype": "text/x-python",
   "name": "python",
   "nbconvert_exporter": "python",
   "pygments_lexer": "ipython3",
   "version": "3.6.1"
  }
 },
 "nbformat": 4,
 "nbformat_minor": 2
}
