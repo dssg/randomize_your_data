{
 "cells": [
  {
   "cell_type": "markdown",
   "metadata": {},
   "source": [
    "## Purpose  \n",
    "Demonstrate how leakage can be detected using a data randomization process.  \n",
    "## Process\n",
    "Create fake data using linear data-generating process (DGP). Intentionally leak information and then show that this code helps detect the leakage."
   ]
  },
  {
   "cell_type": "code",
   "execution_count": 1,
   "metadata": {
    "collapsed": true
   },
   "outputs": [],
   "source": [
    "import sys\n",
    "import os\n",
    "import math\n",
    "import warnings\n",
    "\n",
    "import pandas as pd\n",
    "import numpy as np\n",
    "import scipy.stats as stats\n",
    "import matplotlib.pyplot as plt\n",
    "\n",
    "from sklearn import linear_model\n",
    "from sklearn import metrics \n",
    "from sklearn.model_selection import TimeSeriesSplit, train_test_split\n",
    "from IPython.core.interactiveshell import InteractiveShell\n",
    "\n",
    "warnings.filterwarnings(action='once')\n",
    "InteractiveShell.ast_node_interactivity = \"all\""
   ]
  },
  {
   "cell_type": "code",
   "execution_count": 2,
   "metadata": {
    "collapsed": true
   },
   "outputs": [],
   "source": [
    "# Set seed\n",
    "np.random.seed(5)"
   ]
  },
  {
   "cell_type": "code",
   "execution_count": 3,
   "metadata": {
    "collapsed": true
   },
   "outputs": [],
   "source": [
    "def randomize(filepath, index_col = None, do_not_randomize = None):\n",
    "    \"\"\"\n",
    "    Randomize column values of a file. Each column is randomized independently.\n",
    "    \n",
    "    Inputs:\n",
    "        filepath (str): path to file to randomize; may be of type csv or txt\n",
    "        index_col (str): optional name of column to use as index; will not \n",
    "            be randomized\n",
    "        do_not_randomize (list): optional list of strings indicating names of \n",
    "            columns that should not be randomized\n",
    "    Outputs:\n",
    "        df (dataframe): dataframe representation of randomized data\n",
    "        Output file will be generated, named as original file name + \"_randomized\"\n",
    "    \"\"\"\n",
    "    \n",
    "    # Treat csv and txt differently\n",
    "    filename, file_extension = os.path.splitext(filepath)\n",
    "    if file_extension == '.csv':\n",
    "        sep = \",\"\n",
    "    elif file_extension == '.txt':\n",
    "        sep = \"\\t\"\n",
    "        \n",
    "    # Randomize column by column\n",
    "    df = pd.read_csv(filepath, sep = sep, index_col = index_col) \n",
    "    \n",
    "    if do_not_randomize:\n",
    "        cols = [c for c in df.columns if c not in do_not_randomize]\n",
    "    else:\n",
    "        cols = df.columns\n",
    "        \n",
    "    for col in cols:\n",
    "        print('... Randomizing column ' + col)\n",
    "        df[col] = np.random.permutation(df[col])\n",
    "        \n",
    "    # Print to new csv or txt\n",
    "    new_file = filename + '_randomized' + file_extension\n",
    "    df.to_csv(new_file)   \n",
    "    \n",
    "    return df"
   ]
  },
  {
   "cell_type": "code",
   "execution_count": 4,
   "metadata": {
    "collapsed": true
   },
   "outputs": [],
   "source": [
    "def generate_data(period, n_rows, m_columns, threshold, betas, intercept):\n",
    "    \n",
    "    \"\"\" \n",
    "    Generate fake data for a classification task, based on data generating process where:\n",
    "    - Features are drawn iid from standard logistic distribution (location = 0, scale = 1)\n",
    "    - Regression equation: y = intercept + beta_1 * x1 + .. + beta_m * xm + error\n",
    "    - Error is drawn from standard normal distribution\n",
    "    - Outcome is 1 if p value from logistic function exceeds threshold, 0 otherwise\n",
    "\n",
    "    Inputs:\n",
    "        period (int): time period\n",
    "        n_rows (int): number of observations to generate\n",
    "        m_columns (int): number of features to generate\n",
    "        betas (list): list of numerical values to use as coefficients; length must equal m_columns, \n",
    "            i.e. don't include intercept\n",
    "        intercept (int): constant number to use as intercept of regression equation\n",
    "\n",
    "    Outputs:\n",
    "        X (dataframe): matrix of feature variables\n",
    "        y (series): outcome variable\n",
    "\n",
    "    \"\"\"\n",
    "    print(\"Generating {} observations...\".format(n_rows))\n",
    "\n",
    "    # generate column names\n",
    "    colnames = []\n",
    "    for i in range(m_columns):\n",
    "        colnames.append('x' + str(i + 1))\n",
    "\n",
    "    # generate fake data\n",
    "    df = pd.DataFrame(np.random.logistic(size=(n_rows, m_columns)), columns = colnames)\n",
    "    df.insert(loc = 0, column = 'intercept', value = 1)\n",
    "    betas = [intercept] + betas\n",
    "    df['z'] = np.multiply(np.array(betas), df).sum(axis=1) + np.random.normal()\n",
    "    df['pr'] = df['z'].apply(lambda x: 1/(1 + math.exp(x)))\n",
    "    df['outcome'] = np.where(df['pr'] > threshold, 1, 0)\n",
    "    df.index.name = 'idx'\n",
    "    df['period'] = period\n",
    "\n",
    "    return df"
   ]
  },
  {
   "cell_type": "code",
   "execution_count": 5,
   "metadata": {
    "collapsed": true
   },
   "outputs": [],
   "source": [
    "def run_logreg(X_train, y_train, X_test, y_test, plot = True, k=100):\n",
    "    \"\"\"\n",
    "    Run logistic regression on given test and training sets   \n",
    "    \n",
    "    Inputs\n",
    "        training and test sets\n",
    "        k (int): k value for which to obtain precision at k\n",
    "    \n",
    "    Output\n",
    "        dictionary containing logistic regresison model, test set, and evaluation metrics\n",
    "    \"\"\"\n",
    "    # Record baseline accuracy, i.e. percentage of positives in training set\n",
    "    baseline = np.mean(y_train)\n",
    "    print(\"Baseline (% positives in training data): \" + str(round(baseline, 3)))\n",
    "    \n",
    "    # Create a logistic regression object\n",
    "    logreg = linear_model.LogisticRegression()\n",
    "\n",
    "    # Train model with training set\n",
    "    logreg.fit(X_train, y_train)\n",
    "\n",
    "    # Make predictions with test set\n",
    "    y_pred = logreg.predict(X_test)\n",
    "\n",
    "    # Save probabilities\n",
    "    probs = logreg.predict_proba(X_test)\n",
    "    \n",
    "    # Calculate accuracy, AUC, and precision at k\n",
    "    accuracy = metrics.accuracy_score(y_test, y_pred)\n",
    "    auc = metrics.roc_auc_score(y_test, probs[:, 1])\n",
    "    \n",
    "    # Print accuracy and AUC\n",
    "    print(\"Accuracy: \" + str(round(accuracy, 3)))\n",
    "    print(\"AUC Score: \" + str(round(auc, 3)))\n",
    "    print(\"Precision at top {}: {}\".format(k, get_precision_at_k(y_test, y_pred, probs[:,1], k)))\n",
    "\n",
    "    # Print confusion matrix\n",
    "    print(metrics.confusion_matrix(y_test, y_pred))\n",
    "    \n",
    "    if plot:\n",
    "        # Plot AUC curve (source: https://datamize.wordpress.com/2015/01/24/how-to-plot-a-roc-curve-in-scikit-learn/)\n",
    "        false_positive_rate, true_positive_rate, thresholds = metrics.roc_curve(y_test, probs[:,1])\n",
    "        #print(\"FP rate: \", false_positive_rate, \"TP rate: \", true_positive_rate)\n",
    "        plt.title('Receiver Operating Characteristic')\n",
    "        plt.plot(false_positive_rate, true_positive_rate, 'b', label='AUC = %0.2f'% auc)\n",
    "        plt.legend(loc='lower right')\n",
    "        plt.plot([0,1],[0,1],'r--')\n",
    "        plt.xlim([-0.1,1.2])\n",
    "        plt.ylim([-0.1,1.2])\n",
    "        plt.ylabel('True Positive Rate')\n",
    "        plt.xlabel('False Positive Rate')\n",
    "        plt.show()\n",
    "\n",
    "    # Create output dictionary\n",
    "    output = {'model': logreg, 'baseline': baseline, 'X_test': X_test, 'y_test': y_test, 'y_pred': y_pred, 'probs': probs, 'accuracy': accuracy, 'auc': auc}\n",
    "    \n",
    "    return output"
   ]
  },
  {
   "cell_type": "code",
   "execution_count": 6,
   "metadata": {
    "collapsed": true
   },
   "outputs": [],
   "source": [
    "def get_X_y(df):\n",
    "    \"\"\"\n",
    "    Split data frame into X and y objects \n",
    "    \"\"\"\n",
    "    X = df.drop(['z', 'pr', 'outcome'], axis = 1)\n",
    "    y = df['outcome']\n",
    "    return X, y\n",
    "\n",
    "def logreg_pipeline(df, temporal = False, plot = True):\n",
    "    \"\"\"\n",
    "    Put raw inputs through basic machine learning pipeline.\n",
    "    \n",
    "    Inputs:\n",
    "        df (dataframe): Pandas dataframe representing raw input file\n",
    "        temporal (bool): Indicator for whether a temporal TimeSeriesSplit\n",
    "            should be use instead of non-temporal train_test_split\n",
    "        plot (bool): Indicator for whether to plot the auc curve\n",
    "    Outputs:\n",
    "        list of logistic regression model dictionaries; length = 1 when temporal == False\n",
    "    \"\"\"\n",
    "    # Save results of run_logreg\n",
    "    models = []\n",
    "    \n",
    "    # Split into train and test sets\n",
    "    if temporal: # do temporal train-test split\n",
    "        periods = np.sort(df.period.unique())\n",
    "        splits = TimeSeriesSplit(n_splits = max(periods))\n",
    "        print(\"\\nTime series split\")\n",
    "        for train_index, test_index in splits.split(periods):\n",
    "            print(\"Train periods: \", train_index, \"Test periods: \", test_index)\n",
    "            df_train = df[df.period.isin(train_index)]\n",
    "            df_test = df[df.period.isin(test_index)]\n",
    "            X_train, y_train = get_X_y(df_train)\n",
    "            X_test, y_test = get_X_y(df_test)\n",
    "            models.append(run_logreg(X_train, y_train, X_test, y_test, plot, k=100))\n",
    "\n",
    "    else: # do random, non-temporal train-test split\n",
    "        print(\"\\nTrain test split -- test size = 0.33\")\n",
    "        X, y = get_X_y(df)\n",
    "        X_train, X_test, y_train, y_test = train_test_split(X, y, test_size=0.33)\n",
    "        models.append(run_logreg(X_train, y_train, X_test, y_test, plot, k=100))\n",
    "    \n",
    "    return models"
   ]
  },
  {
   "cell_type": "code",
   "execution_count": 7,
   "metadata": {
    "collapsed": true,
    "scrolled": true
   },
   "outputs": [],
   "source": [
    "def get_precision_at_k(y_test, y_pred, probs, k):\n",
    "    \"\"\"\n",
    "    Calculate precision at top k observations\n",
    "    \n",
    "    Inputs\n",
    "        y_test (series)\n",
    "        y_pred (array)\n",
    "        probs (array)\n",
    "        k (int)\n",
    "    Outputs\n",
    "        precision_at_k (float)\n",
    "    \"\"\"\n",
    "    df = pd.DataFrame(np.transpose([np.asarray(y_test), y_pred, probs]), columns = ['y_test', 'y_pred', 'probs'])\n",
    "    df_sorted = df.sort_values(by='probs', ascending = False)\n",
    "    df_topk = df_sorted.iloc[:k,:]\n",
    "    precision_at_k = metrics.precision_score(df_topk.y_test, df_topk.y_pred)\n",
    "\n",
    "    return precision_at_k"
   ]
  },
  {
   "cell_type": "code",
   "execution_count": 8,
   "metadata": {
    "collapsed": true
   },
   "outputs": [],
   "source": [
    "def bootstrap_metrics(df, bootstrap_n, k, temporal = False):\n",
    "    \"\"\"\n",
    "    Sample with replacement from original data frame a number of times. Run logistic regression pipeline on each sample\n",
    "    to obtain a distribution of AUC scores for significance testing.\n",
    "    \n",
    "    Inputs\n",
    "        df (dataframe): Pandas dataframe representing raw input file\n",
    "        bootstrap_n (int): number of bootstrap samples to run\n",
    "        k (int): k value for which to obtain precision at k\n",
    "        temporal (bool): Indicator for whether a temporal TimeSeriesSplit\n",
    "            should be use instead of non-temporal train_test_split\n",
    "        \n",
    "    Outputs\n",
    "        auc_array (array): array of auc scores of dimension bootstrap_n x num_temporal_tests\n",
    "        precision_k_array (array): array of precision at top k scores of dimension bootstrap_n x num_temporal_tests\n",
    "    \"\"\"\n",
    "    \n",
    "    all_iterations = []\n",
    "    for n in range(bootstrap_n):\n",
    "        sample = df.sample(df.shape[0], replace=True)\n",
    "        all_iterations.append(logreg_pipeline(sample, temporal, plot = False))\n",
    "    \n",
    "    if temporal: # each iteration contains a list of models, one for each temporal split\n",
    "        auc_scores = [[d['auc'] for d in iteration] for iteration in all_iterations]\n",
    "        auc_array = np.array(auc_scores)\n",
    "        \n",
    "        precision_k_scores = [[get_precision_at_k(d['y_test'], d['y_pred'], d['probs'][:, 1], k) for d in iteration] for iteration in all_iterations]\n",
    "        precision_k_array = np.array(precision_k_scores)\n",
    "        \n",
    "    else: # each iteration only contains one model\n",
    "        auc_scores = [iteration[0]['auc'] for iteration in all_iterations]\n",
    "        auc_array = np.array(auc_scores)[:,np.newaxis]\n",
    "        \n",
    "        precision_k_scores = [get_precision_at_k(iteration[0]['y_test'], iteration[0]['y_pred'], iteration[0]['probs'][:, 1], k) for iteration in all_iterations]\n",
    "        precision_k_array = np.array(precision_k_scores)[:, np.newaxis]\n",
    "    \n",
    "    return auc_array, precision_k_array"
   ]
  },
  {
   "cell_type": "code",
   "execution_count": 9,
   "metadata": {
    "collapsed": true
   },
   "outputs": [],
   "source": [
    "def sig_test(scores_array, metric_name, baseline):\n",
    "    \"\"\"\n",
    "    Use traditional significance test to check for nonrandom effects\n",
    "    \n",
    "    Goal: argue for a statistically significant effect, i.e. scores are different from random\n",
    "    H0: avg score = baseline, i.e. random\n",
    "    H1: avg score != baseline, i.e. different from random\n",
    "    \n",
    "    We reject null at significance level of alpha = 0.05 \n",
    "    \n",
    "    Inputs\n",
    "        scores_array (array): array of scores from bootstrapped samples; scores can be auc, precision at k, etc\n",
    "        metric_name (str): \"auc\" or \"precision_at_k\"\n",
    "        baseline (float): expected score for a random classifier; ex: 0.5 for AUC, % positives for precision\n",
    "            \n",
    "    Outputs\n",
    "        p (float): p value\n",
    "    \"\"\"\n",
    "    print(\"Performing traditional two-sided t-test for \", metric_name)\n",
    "    print(\"Null hypothesis: avg score is same as baseline\")\n",
    "    \n",
    "    sample_mean = np.mean(scores_array)\n",
    "    std_error = np.std(scores_array, ddof=1, dtype=np.float64) # unbiased estimator\n",
    "    print(\"\\nBaseline {}: {}\".format(metric_name, round(baseline, 6)))\n",
    "    print(\"Sample mean {}: {}\".format(metric_name, round(sample_mean, 6)))\n",
    "    print(\"Standard error: \", round(std_error, 6))\n",
    "    \n",
    "    # zero standard error: no statistical doubt that sample mean is true mean\n",
    "    # rounding to 10 decimal points because of zero precision issues\n",
    "    if np.around(std_error, 10) == 0.0 : \n",
    "        print(\"\\nSomething's wrong: zero standard error!\")\n",
    "        if abs(sample_mean - baseline) < 0.00000000001:\n",
    "            print('Fail to reject null at significance level 0.0')\n",
    "            print('Inconclusive about whether avg {} is statistically different from baseline'.format(metric_name))\n",
    "        else:\n",
    "            print('Reject null at significance level 0.0')\n",
    "            print('Avg {} is statistically different from random'.format(metric_name))\n",
    "        return 1.0\n",
    "    \n",
    "    deg = scores_array.size - 1\n",
    "    \n",
    "    # Compute p-val\n",
    "    t = (sample_mean - baseline) / std_error\n",
    "    p = 1 - stats.t.cdf(x = abs(t), df = deg)\n",
    "    print(\"\\nt-score: \", t, \"p-val: \", p)\n",
    "    \n",
    "    # reject null if significance level of 0.05 or lower is achieved\n",
    "    if p <= 0.05:\n",
    "        print('\\nReject null at significance level ', round(p, 6))\n",
    "        print('Avg {} is statistically different from random'.format(metric_name))\n",
    "    else:\n",
    "        print('\\nFail to reject null at significance level ', round(p, 6))\n",
    "        print('Inconclusive about whether avg {} is statistically different from baseline'.format(metric_name))\n",
    "    \n",
    "    return p"
   ]
  },
  {
   "cell_type": "code",
   "execution_count": 10,
   "metadata": {
    "collapsed": true
   },
   "outputs": [],
   "source": [
    "def tost(scores_array, metric_name, baseline, m):\n",
    "    \"\"\"\n",
    "    Use two one-sided significance test (TOST) to check for negligible effect, as described here: \n",
    "        http://www.carlislerainey.com/papers/nme.pdf\n",
    "    \n",
    "    Goal: argue for an empirically negligible effect, i.e. scores are no different from random\n",
    "    H0: avg score is in [0, baseline - m] U [baseline + m, 1], i.e. different from random\n",
    "    H1: avg score is in [baseline - m, baseline + m], i.e. same as random\n",
    "    \n",
    "    p-value of a TOST is the maximum of the p-values of each one-sided test\n",
    "    We reject null at significance level of alpha = 0.05 \n",
    "    \n",
    "    Inputs\n",
    "        scores_array (array): array of scores from bootstrapped samples; scores can be auc, precision at k, etc\n",
    "        baseline (float): expected score for a random classifier; ex: 0.5 for AUC, % positives for precision\n",
    "        m (float):  We assume that the smallest substantially meaningful effect for results to be different from random\n",
    "            is when score is m different from baseline (random).\n",
    "            \n",
    "    Outputs\n",
    "        p (float): p value\n",
    "    \"\"\" \n",
    "    print(\"Performing two one-sided t-tests (TOST) for \", metric_name)\n",
    "    print(\"Null hypothesis: avg score is different from baseline\")\n",
    "\n",
    "\n",
    "    sample_mean = np.mean(scores_array)\n",
    "    std_error = np.std(scores_array, ddof=1, dtype=np.float64) # unbiased estimator\n",
    "    print(\"\\nBaseline {}: {}\".format(metric_name, round(baseline, 6)))\n",
    "    print(\"Sample mean {}: {}\".format(metric_name, round(sample_mean, 6)))\n",
    "    print(\"Standard error: \", round(std_error, 6))\n",
    "    \n",
    "    # zero standard error: no statistical doubt that sample mean is true mean\n",
    "    # rounding to 10 decimal points because of zero precision issues\n",
    "    if np.around(std_error, 10) == 0.0 : \n",
    "        print(\"\\nSomething's wrong: zero standard error!\")\n",
    "        if sample_mean > baseline - m and sample_mean < baseline + m:\n",
    "            print('Reject null at significance level 0.0')\n",
    "            print('Avg {} is statistically the same as random'.format(metric_name))\n",
    "        else:\n",
    "            print('Fail to reject null at significance level 0.0')\n",
    "            print('Inconclusive about whether avg {} is statistically the same as random'.format(metric_name))\n",
    "        return 1.0\n",
    "    \n",
    "    deg = scores_array.size - 1\n",
    "    \n",
    "    # Compute p-val for side 1: score is in [0, baseline - m]\n",
    "    t1 = (sample_mean - (baseline - m)) / std_error\n",
    "    p1 = 1 - stats.t.cdf(x = abs(t1), df = deg)\n",
    "    print(\"\\nt1: \", t1, \"p1: \", p1)\n",
    "    \n",
    "    # Compute p-val for side 2: score is in [baseline + m, 1]\n",
    "    t2 = (sample_mean - (baseline + m)) / std_error\n",
    "    p2 = 1 - stats.t.cdf(x = abs(t2), df = deg)\n",
    "    print(\"t2: \", t2, \"p2: \", p2)\n",
    "    \n",
    "    # p-val is max of the two one-sided tests\n",
    "    p = max(p1, p2)\n",
    "    \n",
    "    # reject null if significance level of 0.05 or lower is achieved\n",
    "    if p <= 0.05:\n",
    "        print('\\nReject null at significance level ', round(p, 6))\n",
    "        print('Avg {} is statistically the same as random'.format(metric_name))\n",
    "    else:\n",
    "        print('Fail to reject null at significance level ', round(p, 6))\n",
    "        print('Inconclusive about whether avg {} is statistically the same as random'.format(metric_name))\n",
    "    \n",
    "    return p"
   ]
  },
  {
   "cell_type": "markdown",
   "metadata": {},
   "source": [
    "## Case 1: Stable DGP \n",
    "### Non-temporal example with stable DGP; data leakage through outcome variable as a feature"
   ]
  },
  {
   "cell_type": "markdown",
   "metadata": {},
   "source": [
    "Generate data for 5 periods with constant DGP"
   ]
  },
  {
   "cell_type": "code",
   "execution_count": 11,
   "metadata": {},
   "outputs": [
    {
     "name": "stdout",
     "output_type": "stream",
     "text": [
      "Generating 2000 observations...\n",
      "Generating 2000 observations...\n",
      "Generating 2000 observations...\n",
      "Generating 2000 observations...\n",
      "Generating 2000 observations...\n"
     ]
    }
   ],
   "source": [
    "frames = []\n",
    "for i in range(5):\n",
    "    period_df = generate_data(period = i, n_rows = 2000, m_columns = 5, threshold = 0.5, betas = [1,2,3,4,5], intercept = 1)\n",
    "    frames.append(period_df)\n",
    "df = pd.concat(frames)\n",
    "df.to_csv('fake_data.csv')"
   ]
  },
  {
   "cell_type": "markdown",
   "metadata": {},
   "source": [
    "Run original input file through pipeline."
   ]
  },
  {
   "cell_type": "code",
   "execution_count": 12,
   "metadata": {
    "scrolled": false
   },
   "outputs": [
    {
     "name": "stdout",
     "output_type": "stream",
     "text": [
      "\n",
      "Train test split -- test size = 0.33\n",
      "Baseline (% positives in training data): 0.487\n",
      "Accuracy: 0.988\n",
      "AUC Score: 0.999\n",
      "Precision at top 100: 1.0\n",
      "[[1725   22]\n",
      " [  17 1536]]\n"
     ]
    },
    {
     "data": {
      "image/png": "[encoded data removed]",
      "text/plain": [
       "<matplotlib.figure.Figure at 0x1a87d2a2be0>"
      ]
     },
     "metadata": {},
     "output_type": "display_data"
    }
   ],
   "source": [
    "models = logreg_pipeline(df)"
   ]
  },
  {
   "cell_type": "markdown",
   "metadata": {},
   "source": [
    "Put the input file through randomization process, then run it through the pipeline."
   ]
  },
  {
   "cell_type": "code",
   "execution_count": 13,
   "metadata": {
    "scrolled": false
   },
   "outputs": [
    {
     "name": "stdout",
     "output_type": "stream",
     "text": [
      "... Randomizing column intercept\n",
      "... Randomizing column x1\n",
      "... Randomizing column x2\n",
      "... Randomizing column x3\n",
      "... Randomizing column x4\n",
      "... Randomizing column x5\n",
      "... Randomizing column z\n",
      "... Randomizing column pr\n",
      "\n",
      "Train test split -- test size = 0.33\n",
      "Baseline (% positives in training data): 0.484\n",
      "Accuracy: 0.504\n",
      "AUC Score: 0.492\n",
      "Precision at top 100: 0.48\n",
      "[[1329  396]\n",
      " [1241  334]]\n"
     ]
    },
    {
     "data": {
      "image/png": "[encoded data removed]",
      "text/plain": [
       "<matplotlib.figure.Figure at 0x1a87e3d0e10>"
      ]
     },
     "metadata": {},
     "output_type": "display_data"
    }
   ],
   "source": [
    "df_random = randomize('fake_data.csv', 'idx', ['period', 'outcome']) # creates csv named fake_data_randomized.csv\n",
    "models = logreg_pipeline(df_random)"
   ]
  },
  {
   "cell_type": "markdown",
   "metadata": {},
   "source": [
    "Perform statistical test on bootstrapped samples. Expect to see that model performs no better than random because data has been randomized."
   ]
  },
  {
   "cell_type": "code",
   "execution_count": 14,
   "metadata": {
    "collapsed": true
   },
   "outputs": [],
   "source": [
    "%%capture\n",
    "auc_array, precision_k_array = bootstrap_metrics(df_random, 1000, k=100, temporal=False)"
   ]
  },
  {
   "cell_type": "markdown",
   "metadata": {},
   "source": [
    "AUC and precision at k scores are what we'd expect; no indication of them being statistically different from random"
   ]
  },
  {
   "cell_type": "code",
   "execution_count": 15,
   "metadata": {},
   "outputs": [
    {
     "name": "stdout",
     "output_type": "stream",
     "text": [
      "Performing traditional two-sided t-test for  auc\n",
      "Null hypothesis: avg score is same as baseline\n",
      "\n",
      "Baseline auc: 0.5\n",
      "Sample mean auc: 0.508027\n",
      "Standard error:  0.011054\n",
      "\n",
      "t-score:  0.726149357656 p-val:  0.233958651674\n",
      "\n",
      "Fail to reject null at significance level  0.233959\n",
      "Inconclusive about whether avg auc is statistically different from baseline\n"
     ]
    },
    {
     "data": {
      "text/plain": [
       "0.23395865167438634"
      ]
     },
     "execution_count": 15,
     "metadata": {},
     "output_type": "execute_result"
    }
   ],
   "source": [
    "sig_test(auc_array, metric_name = 'auc', baseline = 0.5)"
   ]
  },
  {
   "cell_type": "code",
   "execution_count": 16,
   "metadata": {},
   "outputs": [
    {
     "name": "stdout",
     "output_type": "stream",
     "text": [
      "Performing traditional two-sided t-test for  precision_at_k\n",
      "Null hypothesis: avg score is same as baseline\n",
      "\n",
      "Baseline precision_at_k: 0.4819\n",
      "Sample mean precision_at_k: 0.501695\n",
      "Standard error:  0.072558\n",
      "\n",
      "t-score:  0.272815148319 p-val:  0.392525848262\n",
      "\n",
      "Fail to reject null at significance level  0.392526\n",
      "Inconclusive about whether avg precision_at_k is statistically different from baseline\n"
     ]
    },
    {
     "data": {
      "text/plain": [
       "0.39252584826184378"
      ]
     },
     "execution_count": 16,
     "metadata": {},
     "output_type": "execute_result"
    }
   ],
   "source": [
    "sig_test(precision_k_array, metric_name = 'precision_at_k', baseline = np.mean(df_random.outcome))"
   ]
  },
  {
   "cell_type": "code",
   "execution_count": 17,
   "metadata": {},
   "outputs": [
    {
     "name": "stdout",
     "output_type": "stream",
     "text": [
      "Performing two one-sided t-tests (TOST) for  auc\n",
      "Null hypothesis: avg score is different from baseline\n",
      "\n",
      "Baseline auc: 0.5\n",
      "Sample mean auc: 0.508027\n",
      "Standard error:  0.011054\n",
      "\n",
      "t1:  5.24951578723 p1:  9.31345589539e-08\n",
      "t2:  -3.79721707192 p2:  7.75756654755e-05\n",
      "\n",
      "Reject null at significance level  7.8e-05\n",
      "Avg auc is statistically the same as random\n"
     ]
    },
    {
     "data": {
      "text/plain": [
       "7.7575665475504429e-05"
      ]
     },
     "execution_count": 17,
     "metadata": {},
     "output_type": "execute_result"
    }
   ],
   "source": [
    "tost(auc_array, metric_name = 'auc', baseline = 0.5, m = 0.05)"
   ]
  },
  {
   "cell_type": "code",
   "execution_count": 18,
   "metadata": {
    "scrolled": false
   },
   "outputs": [
    {
     "name": "stdout",
     "output_type": "stream",
     "text": [
      "Performing two one-sided t-tests (TOST) for  precision_at_k\n",
      "Null hypothesis: avg score is different from baseline\n",
      "\n",
      "Baseline precision_at_k: 0.4819\n",
      "Sample mean precision_at_k: 0.501695\n",
      "Standard error:  0.072558\n",
      "\n",
      "t1:  0.961922765987 p1:  0.168160584263\n",
      "t2:  -0.416292469349 p2:  0.338642710504\n",
      "Fail to reject null at significance level  0.338643\n",
      "Inconclusive about whether avg precision_at_k is statistically the same as random\n"
     ]
    },
    {
     "data": {
      "text/plain": [
       "0.33864271050385319"
      ]
     },
     "execution_count": 18,
     "metadata": {},
     "output_type": "execute_result"
    }
   ],
   "source": [
    "tost(precision_k_array, metric_name = 'precision_at_k', baseline = np.mean(df_random.outcome), m = 0.05)"
   ]
  },
  {
   "cell_type": "markdown",
   "metadata": {},
   "source": [
    "Try introducing an obvious case of data leakage by using the outcome column as a feature. Run this through the pipeline. Model performs well, as expected."
   ]
  },
  {
   "cell_type": "code",
   "execution_count": 19,
   "metadata": {},
   "outputs": [
    {
     "name": "stdout",
     "output_type": "stream",
     "text": [
      "\n",
      "Train test split -- test size = 0.33\n",
      "Baseline (% positives in training data): 0.484\n",
      "Accuracy: 1.0\n",
      "AUC Score: 1.0\n",
      "Precision at top 100: 1.0\n",
      "[[1726    0]\n",
      " [   0 1574]]\n"
     ]
    },
    {
     "data": {
      "image/png": "[encoded data removed]",
      "text/plain": [
       "<matplotlib.figure.Figure at 0x1a87f7e05f8>"
      ]
     },
     "metadata": {},
     "output_type": "display_data"
    }
   ],
   "source": [
    "df['leaky_col'] = df['outcome']\n",
    "models = logreg_pipeline(df)"
   ]
  },
  {
   "cell_type": "markdown",
   "metadata": {},
   "source": [
    "Put the input file through randomization process. Again, introduce data leakage into the pipeline by using outcome as a feature."
   ]
  },
  {
   "cell_type": "code",
   "execution_count": null,
   "metadata": {
    "scrolled": false
   },
   "outputs": [
    {
     "name": "stdout",
     "output_type": "stream",
     "text": [
      "... Randomizing column intercept\n",
      "... Randomizing column x1\n",
      "... Randomizing column x2\n",
      "... Randomizing column x3\n",
      "... Randomizing column x4\n",
      "... Randomizing column x5\n",
      "... Randomizing column z\n",
      "... Randomizing column pr\n",
      "\n",
      "Train test split -- test size = 0.33\n",
      "Baseline (% positives in training data): 0.477\n",
      "Accuracy: 1.0\n",
      "AUC Score: 1.0\n",
      "Precision at top 100: 1.0\n",
      "[[1680    0]\n",
      " [   0 1620]]\n"
     ]
    },
    {
     "data": {
      "image/png": "[encoded data removed]",
      "text/plain": [
       "<matplotlib.figure.Figure at 0x1a87f800400>"
      ]
     },
     "metadata": {},
     "output_type": "display_data"
    }
   ],
   "source": [
    "df_random = randomize('fake_data.csv', 'idx', ['period', 'outcome']) # generates csv named \"fake_data_randomized.csv\"\n",
    "df_random['leaky_col'] = df_random['outcome']\n",
    "models = logreg_pipeline(df_random)"
   ]
  },
  {
   "cell_type": "markdown",
   "metadata": {},
   "source": [
    "\n",
    "Perform statistical test on bootstrapped samples. Expect to see that model performs  better than random, thus suggesting the existence of data leakage."
   ]
  },
  {
   "cell_type": "code",
   "execution_count": null,
   "metadata": {
    "collapsed": true
   },
   "outputs": [],
   "source": [
    "%%capture\n",
    "auc_array, precision_k_array = bootstrap_metrics(df_random, 1000, k=100, temporal=False)"
   ]
  },
  {
   "cell_type": "markdown",
   "metadata": {},
   "source": [
    "Scores are what we'd expect; they are different from random"
   ]
  },
  {
   "cell_type": "code",
   "execution_count": null,
   "metadata": {},
   "outputs": [],
   "source": [
    "sig_test(auc_array, metric_name = 'auc', baseline = 0.5)"
   ]
  },
  {
   "cell_type": "code",
   "execution_count": null,
   "metadata": {},
   "outputs": [],
   "source": [
    "sig_test(precision_k_array, metric_name = 'precision_at_k', baseline = np.mean(df_random.outcome))"
   ]
  },
  {
   "cell_type": "code",
   "execution_count": null,
   "metadata": {
    "scrolled": false
   },
   "outputs": [],
   "source": [
    "tost(auc_array, metric_name = 'auc', baseline = 0.5, m = 0.05)"
   ]
  },
  {
   "cell_type": "markdown",
   "metadata": {},
   "source": [
    "Precision at top 100 scores are what we'd expect; they are different from random"
   ]
  },
  {
   "cell_type": "code",
   "execution_count": null,
   "metadata": {
    "scrolled": false
   },
   "outputs": [],
   "source": [
    "tost(precision_k_array, metric_name = 'precision_at_k', baseline = np.mean(df_random.outcome), m = 0.05)"
   ]
  },
  {
   "cell_type": "markdown",
   "metadata": {},
   "source": [
    "## Case 2: Stable DGP -- Need to edit or remove because it doesn't show anything insightful\n",
    "\n",
    "### Non-temporal example with stable DGP; data leakage through selection of variables that are highly correlated with outcome (i.e. proxy variables)"
   ]
  },
  {
   "cell_type": "markdown",
   "metadata": {},
   "source": [
    "Generate data with 1000 variables for 5 periods with constant DGP. Betas are random integers between 0 and 10."
   ]
  },
  {
   "cell_type": "code",
   "execution_count": null,
   "metadata": {},
   "outputs": [],
   "source": [
    "frames = []\n",
    "for i in range(5):\n",
    "    period_df = generate_data(period = i, n_rows = 2000, m_columns = 1000, threshold = 0.5, betas = list(np.random.randint(0, 5, size=1000)), intercept = 1)\n",
    "    frames.append(period_df)\n",
    "df = pd.concat(frames)\n",
    "df.to_csv('fake_data.csv')"
   ]
  },
  {
   "cell_type": "markdown",
   "metadata": {},
   "source": [
    "Run original input file through pipeline."
   ]
  },
  {
   "cell_type": "code",
   "execution_count": null,
   "metadata": {},
   "outputs": [],
   "source": [
    "models = logreg_pipeline(df)"
   ]
  },
  {
   "cell_type": "markdown",
   "metadata": {},
   "source": [
    "Compute correlation of each variable with outcome variable. Select top 100 highest positively-correlated variables to use as features.\n",
    "\n",
    "Model performs worse now than when all variables are used as features. This is expected because outcome is a function of all 1000 variables in true relationship, so predictive power of 100 variables is not as high as 1000 variables."
   ]
  },
  {
   "cell_type": "code",
   "execution_count": null,
   "metadata": {
    "collapsed": true
   },
   "outputs": [],
   "source": [
    "correlations = []\n",
    "for i in range(1000):\n",
    "    corr_coeff = df['x'+str(i + 1)].corr(df.outcome)\n",
    "    correlations.append((i+1, corr_coeff))\n",
    "top_100 = sorted(correlations, key=lambda x: x[1])[-100:]"
   ]
  },
  {
   "cell_type": "code",
   "execution_count": null,
   "metadata": {
    "collapsed": true
   },
   "outputs": [],
   "source": [
    "indices = [\"x\"+str(x[0]) for x in top_100]"
   ]
  },
  {
   "cell_type": "code",
   "execution_count": null,
   "metadata": {
    "collapsed": true
   },
   "outputs": [],
   "source": [
    "df = df[['intercept'] + indices + ['z', 'pr', 'outcome']]"
   ]
  },
  {
   "cell_type": "code",
   "execution_count": null,
   "metadata": {
    "scrolled": false
   },
   "outputs": [],
   "source": [
    "models = logreg_pipeline(df)"
   ]
  },
  {
   "cell_type": "markdown",
   "metadata": {},
   "source": [
    "## Case 3: Regime change - intercept \n",
    "### DGP is stable over time, then the intercept suddenly changes; data leakage through non-temporal train-test split"
   ]
  },
  {
   "cell_type": "markdown",
   "metadata": {},
   "source": [
    "Generate data for 5 periods with intercept change in period 2  \n",
    "Dataset is in temporal order by default"
   ]
  },
  {
   "cell_type": "code",
   "execution_count": null,
   "metadata": {},
   "outputs": [],
   "source": [
    "frames = []\n",
    "for i in [0,1]:\n",
    "    period_df = generate_data(period = i, n_rows = 2000, m_columns = 5, threshold = 0.5, betas = [1,1,1,1,1], intercept = 1)\n",
    "    frames.append(period_df)\n",
    "for i in [2,3,4]:\n",
    "    period_df = generate_data(period = i, n_rows = 2000, m_columns = 5, threshold = 0.5, betas = [1,2,3,4,5], intercept = -10) \n",
    "    frames.append(period_df)\n",
    "df = pd.concat(frames)\n",
    "df.to_csv('fake_data.csv')"
   ]
  },
  {
   "cell_type": "markdown",
   "metadata": {},
   "source": [
    "Run pipeline using appropriate temporal train-test split. Model does well."
   ]
  },
  {
   "cell_type": "code",
   "execution_count": null,
   "metadata": {
    "scrolled": false
   },
   "outputs": [],
   "source": [
    "models = logreg_pipeline(df, temporal=True)"
   ]
  },
  {
   "cell_type": "markdown",
   "metadata": {},
   "source": [
    "Put input file through randomization process, then run it through the pipeline."
   ]
  },
  {
   "cell_type": "code",
   "execution_count": null,
   "metadata": {
    "scrolled": false
   },
   "outputs": [],
   "source": [
    "df_random = randomize('fake_data.csv', 'idx', ['period', 'outcome']) # creates csv named fake_data_randomized.csv\n",
    "models = logreg_pipeline(df_random, temporal = True)"
   ]
  },
  {
   "cell_type": "markdown",
   "metadata": {},
   "source": [
    "Perform statistical test on bootstrapped samples. Expect to see that model performs no better than random because data has been randomized."
   ]
  },
  {
   "cell_type": "code",
   "execution_count": null,
   "metadata": {
    "collapsed": true
   },
   "outputs": [],
   "source": [
    "%%capture\n",
    "auc_array, precision_k_array = bootstrap_metrics(df_random, 1000, k=100, temporal=True)"
   ]
  },
  {
   "cell_type": "markdown",
   "metadata": {},
   "source": [
    "AUC and precision at k scores are what we'd expect; no indication of them being statistically different from random"
   ]
  },
  {
   "cell_type": "code",
   "execution_count": null,
   "metadata": {},
   "outputs": [],
   "source": [
    "sig_test(auc_array, metric_name = 'auc', baseline = 0.5)"
   ]
  },
  {
   "cell_type": "code",
   "execution_count": null,
   "metadata": {},
   "outputs": [],
   "source": [
    "sig_test(precision_k_array, metric_name = 'precision_at_k', baseline = np.mean(df_random.outcome))"
   ]
  },
  {
   "cell_type": "code",
   "execution_count": null,
   "metadata": {
    "scrolled": true
   },
   "outputs": [],
   "source": [
    "tost(auc_array, metric_name = 'auc', baseline = 0.5, m = 0.05)"
   ]
  },
  {
   "cell_type": "code",
   "execution_count": null,
   "metadata": {},
   "outputs": [],
   "source": [
    "tost(precision_k_array, metric_name = 'precision_at_k', baseline = np.mean(df_random.outcome), m = 0.05)"
   ]
  },
  {
   "cell_type": "markdown",
   "metadata": {},
   "source": [
    "Now, introduce data leakage by using non-temporal train-test split. Run this through the pipeline. Model performs well, as expected."
   ]
  },
  {
   "cell_type": "code",
   "execution_count": null,
   "metadata": {
    "scrolled": false
   },
   "outputs": [],
   "source": [
    "models = logreg_pipeline(df)"
   ]
  },
  {
   "cell_type": "markdown",
   "metadata": {},
   "source": [
    "Observe model performance in each period of the test data."
   ]
  },
  {
   "cell_type": "code",
   "execution_count": null,
   "metadata": {},
   "outputs": [],
   "source": [
    "model = models[0] # list only contains one dictionary because we ran a non-temporal pipeline\n",
    "\n",
    "periods = np.sort(df.period.unique())\n",
    "\n",
    "test_df = model['X_test']\n",
    "test_df['y_test'] = model['y_test']\n",
    "test_df['y_pred'] = model['y_pred']\n",
    "test_df['probs'] = model['probs'][:, 1]\n",
    "\n",
    "for i in periods:\n",
    "    print(\"\\nWhen test period is {}...\".format(i))\n",
    "    df_i = test_df[test_df.period == i]\n",
    "    acc = metrics.accuracy_score(df_i.y_test, df_i.y_pred)\n",
    "    auc = metrics.roc_auc_score(df_i.y_test, df_i.probs)\n",
    "    prec = get_precision_at_k(df_i.y_test, df_i.y_pred, df_i.probs, 100)\n",
    "    print(\"Accuracy: {}\".format(round(acc,5)))\n",
    "    print(\"AUC: {}\".format(round(auc,5)))\n",
    "    print(\"Precision at top 100: {}\".format(round(prec, 5)))"
   ]
  },
  {
   "cell_type": "markdown",
   "metadata": {},
   "source": [
    "Put the input file through randomization process, randomizing all columns except period and outcome. Again, introduce data leakage into the pipeline by using non-temporal train-test split. "
   ]
  },
  {
   "cell_type": "code",
   "execution_count": null,
   "metadata": {
    "scrolled": false
   },
   "outputs": [],
   "source": [
    "df_random = randomize('fake_data.csv', 'idx', ['period', 'outcome']) # generates csv named \"fake_data_randomized.csv\"\n",
    "models = logreg_pipeline(df_random)"
   ]
  },
  {
   "cell_type": "markdown",
   "metadata": {},
   "source": [
    "Observe model performance in each period of the test data.\n",
    "\n",
    "Note: Accuracy is higher in later periods when the data generating process changes, because the baseline % of positives has decreased so it's easier to get higher accuracy figures.  "
   ]
  },
  {
   "cell_type": "code",
   "execution_count": null,
   "metadata": {
    "scrolled": false
   },
   "outputs": [],
   "source": [
    "model = models[0] # list only contains one dictionary because we ran a non-temporal pipeline\n",
    "\n",
    "periods = np.sort(df.period.unique())\n",
    "\n",
    "test_df = model['X_test']\n",
    "test_df['y_test'] = model['y_test']\n",
    "test_df['y_pred'] = model['y_pred']\n",
    "test_df['probs'] = model['probs'][:, 1]\n",
    "\n",
    "for i in periods:\n",
    "    print(\"\\nWhen test period is {}....\".format(i))\n",
    "    df_i = test_df[test_df.period == i]\n",
    "    acc = metrics.accuracy_score(df_i.y_test, df_i.y_pred)\n",
    "    auc = metrics.roc_auc_score(df_i.y_test, df_i.probs)\n",
    "    prec = get_precision_at_k(df_i.y_test, df_i.y_pred, df_i.probs, 100)\n",
    "    print(\"Accuracy: {}\".format(round(acc, 5)))\n",
    "    print(\"AUC: {}\".format(round(auc,5)))\n",
    "    print(\"Precision at top 100: {}\".format(round(prec, 5)))\n",
    "    "
   ]
  },
  {
   "cell_type": "markdown",
   "metadata": {},
   "source": [
    "Perform statistical test to confirm that model performs better than random, thus suggesting data leakage. Again, using non-temporal split as source of data leakage."
   ]
  },
  {
   "cell_type": "code",
   "execution_count": null,
   "metadata": {
    "collapsed": true
   },
   "outputs": [],
   "source": [
    "%%capture\n",
    "auc_array, precision_k_array = bootstrap_metrics(df_random, 1000, k=100, temporal=False)"
   ]
  },
  {
   "cell_type": "code",
   "execution_count": null,
   "metadata": {},
   "outputs": [],
   "source": [
    "sig_test(auc_array, metric_name = 'auc', baseline = 0.5)"
   ]
  },
  {
   "cell_type": "code",
   "execution_count": null,
   "metadata": {},
   "outputs": [],
   "source": [
    "sig_test(precision_k_array, metric_name = 'precision_at_k', baseline = np.mean(df_random.outcome))"
   ]
  },
  {
   "cell_type": "markdown",
   "metadata": {},
   "source": [
    "Even though the traditional statistical tests suggest that the scores are different from random, the tests for negligible effects suggest that these differences are negligible.  \n",
    "\n",
    "QUESTION: What are the implications of this conclusion?"
   ]
  },
  {
   "cell_type": "code",
   "execution_count": null,
   "metadata": {
    "scrolled": true
   },
   "outputs": [],
   "source": [
    "tost(auc_array, metric_name = 'auc',baseline = 0.5, m = 0.05)"
   ]
  },
  {
   "cell_type": "code",
   "execution_count": null,
   "metadata": {},
   "outputs": [],
   "source": [
    "tost(precision_k_array, metric_name = 'precision_at_k', baseline = np.mean(df_random.outcome), m = 0.05)"
   ]
  }
 ],
 "metadata": {
  "kernelspec": {
   "display_name": "Python 3",
   "language": "python",
   "name": "python3"
  },
  "language_info": {
   "codemirror_mode": {
    "name": "ipython",
    "version": 3
   },
   "file_extension": ".py",
   "mimetype": "text/x-python",
   "name": "python",
   "nbconvert_exporter": "python",
   "pygments_lexer": "ipython3",
   "version": "3.6.4"
  }
 },
 "nbformat": 4,
 "nbformat_minor": 2
}
