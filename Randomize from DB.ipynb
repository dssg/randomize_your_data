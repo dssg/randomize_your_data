{
 "cells": [
  {
   "cell_type": "markdown",
   "metadata": {},
   "source": [
    "# Test for data leakage in pipeline\n",
    "\n",
    "Run this notebook to test for data leakage in your machine learning pipeline.  \n",
    "Requires a credentials.py file defining the following variables: dbname, user, host, password"
   ]
  },
  {
   "cell_type": "code",
   "execution_count": 1,
   "metadata": {},
   "outputs": [
    {
     "name": "stderr",
     "output_type": "stream",
     "text": [
      "/mnt/data/users/jwang/venv3/lib/python3.4/site-packages/psycopg2/__init__.py:144: UserWarning: The psycopg2 wheel package will be renamed from release 2.8; in order to keep installing from binary please use \"pip install psycopg2-binary\" instead. For details see: <http://initd.org/psycopg/docs/install.html#binary-install-from-pypi>.\n",
      "  \"\"\")\n"
     ]
    }
   ],
   "source": [
    "import sys\n",
    "import os\n",
    "import math\n",
    "import warnings\n",
    "\n",
    "import pandas as pd\n",
    "import numpy as np\n",
    "import psycopg2\n",
    "from sqlalchemy import create_engine\n",
    "from IPython.core.interactiveshell import InteractiveShell\n",
    "\n",
    "from credentials import dbname, user, host, password\n",
    "\n",
    "warnings.filterwarnings(action='once')\n",
    "InteractiveShell.ast_node_interactivity = \"all\""
   ]
  },
  {
   "cell_type": "code",
   "execution_count": 2,
   "metadata": {},
   "outputs": [],
   "source": [
    "def execute_sql(statement, dbname, user, host, password, results = True):\n",
    "    \"\"\"\n",
    "    Use psycopg2 to execute PostgreSQL queries\n",
    "    \n",
    "    Input:\n",
    "        statement (str): SQL statement to run in database\n",
    "        dbname, user, host, password (str): database credentials\n",
    "        \n",
    "    Output (if exists):\n",
    "        relation (dataframe): query results\n",
    "    \"\"\"\n",
    "    conn = psycopg2.connect(\"dbname={} user={} host={} password={}\".format(dbname, user, host, password))\n",
    "    cur = conn.cursor()\n",
    "    cur.execute(statement)\n",
    "    relation = pd.DataFrame()\n",
    "    if results:\n",
    "        results = cur.fetchall()\n",
    "        colnames = [desc[0] for desc in cur.description]\n",
    "        relation = pd.DataFrame(results, columns=colnames)\n",
    "    cur.close()\n",
    "    conn.close()\n",
    "    return relation\n"
   ]
  },
  {
   "cell_type": "code",
   "execution_count": 3,
   "metadata": {},
   "outputs": [],
   "source": [
    "def randomize(df, do_not_randomize = None):\n",
    "    \"\"\"\n",
    "    Randomize column values of a file. Each column is randomized independently.\n",
    "    \n",
    "    Inputs:\n",
    "        df (dataframe): dataframe to randomize\n",
    "        do_not_randomize (list): optional list of strings indicating names of \n",
    "            columns that should not be randomized\n",
    "    Outputs:\n",
    "        df (dataframe): dataframe of randomized data\n",
    "    \"\"\"     \n",
    "    df_random = df.copy()\n",
    "    if do_not_randomize:\n",
    "        cols = [c for c in df.columns if c not in do_not_randomize]\n",
    "    else:\n",
    "        cols = df.columns\n",
    "        \n",
    "    for col in cols:\n",
    "        #print('\\t\\tRandomizing column ' + col)\n",
    "        df_random[col] = np.random.permutation(df_random[col])\n",
    "\n",
    "    return df_random"
   ]
  },
  {
   "cell_type": "markdown",
   "metadata": {},
   "source": [
    "Pull the information schema from selected database.  "
   ]
  },
  {
   "cell_type": "code",
   "execution_count": 4,
   "metadata": {
    "scrolled": true
   },
   "outputs": [],
   "source": [
    "statement = \"SELECT * FROM information_schema.tables;\"\n",
    "tables = execute_sql(statement, dbname, user, host, password)"
   ]
  },
  {
   "cell_type": "markdown",
   "metadata": {},
   "source": [
    "Select the schema containing raw datasets to be randomized. For this tutorial, the schema is named etl."
   ]
  },
  {
   "cell_type": "code",
   "execution_count": 5,
   "metadata": {
    "scrolled": false
   },
   "outputs": [
    {
     "data": {
      "text/html": [
       "<div>\n",
       "<style scoped>\n",
       "    .dataframe tbody tr th:only-of-type {\n",
       "        vertical-align: middle;\n",
       "    }\n",
       "\n",
       "    .dataframe tbody tr th {\n",
       "        vertical-align: top;\n",
       "    }\n",
       "\n",
       "    .dataframe thead th {\n",
       "        text-align: right;\n",
       "    }\n",
       "</style>\n",
       "<table border=\"1\" class=\"dataframe\">\n",
       "  <thead>\n",
       "    <tr style=\"text-align: right;\">\n",
       "      <th></th>\n",
       "      <th>table_catalog</th>\n",
       "      <th>table_schema</th>\n",
       "      <th>table_name</th>\n",
       "      <th>table_type</th>\n",
       "      <th>self_referencing_column_name</th>\n",
       "      <th>reference_generation</th>\n",
       "      <th>user_defined_type_catalog</th>\n",
       "      <th>user_defined_type_schema</th>\n",
       "      <th>user_defined_type_name</th>\n",
       "      <th>is_insertable_into</th>\n",
       "      <th>is_typed</th>\n",
       "      <th>commit_action</th>\n",
       "    </tr>\n",
       "  </thead>\n",
       "  <tbody>\n",
       "    <tr>\n",
       "      <th>15</th>\n",
       "      <td>san_francisco_eis</td>\n",
       "      <td>etl</td>\n",
       "      <td>arrests</td>\n",
       "      <td>BASE TABLE</td>\n",
       "      <td>None</td>\n",
       "      <td>None</td>\n",
       "      <td>None</td>\n",
       "      <td>None</td>\n",
       "      <td>None</td>\n",
       "      <td>YES</td>\n",
       "      <td>NO</td>\n",
       "      <td>None</td>\n",
       "    </tr>\n",
       "    <tr>\n",
       "      <th>16</th>\n",
       "      <td>san_francisco_eis</td>\n",
       "      <td>etl</td>\n",
       "      <td>occ_incidents</td>\n",
       "      <td>BASE TABLE</td>\n",
       "      <td>None</td>\n",
       "      <td>None</td>\n",
       "      <td>None</td>\n",
       "      <td>None</td>\n",
       "      <td>None</td>\n",
       "      <td>YES</td>\n",
       "      <td>NO</td>\n",
       "      <td>None</td>\n",
       "    </tr>\n",
       "    <tr>\n",
       "      <th>160</th>\n",
       "      <td>san_francisco_eis</td>\n",
       "      <td>etl</td>\n",
       "      <td>uof_employyee</td>\n",
       "      <td>BASE TABLE</td>\n",
       "      <td>None</td>\n",
       "      <td>None</td>\n",
       "      <td>None</td>\n",
       "      <td>None</td>\n",
       "      <td>None</td>\n",
       "      <td>YES</td>\n",
       "      <td>NO</td>\n",
       "      <td>None</td>\n",
       "    </tr>\n",
       "    <tr>\n",
       "      <th>193</th>\n",
       "      <td>san_francisco_eis</td>\n",
       "      <td>etl</td>\n",
       "      <td>uof_employee_subjectlink</td>\n",
       "      <td>BASE TABLE</td>\n",
       "      <td>None</td>\n",
       "      <td>None</td>\n",
       "      <td>None</td>\n",
       "      <td>None</td>\n",
       "      <td>None</td>\n",
       "      <td>YES</td>\n",
       "      <td>NO</td>\n",
       "      <td>None</td>\n",
       "    </tr>\n",
       "    <tr>\n",
       "      <th>212</th>\n",
       "      <td>san_francisco_eis</td>\n",
       "      <td>etl</td>\n",
       "      <td>dem_id</td>\n",
       "      <td>BASE TABLE</td>\n",
       "      <td>None</td>\n",
       "      <td>None</td>\n",
       "      <td>None</td>\n",
       "      <td>None</td>\n",
       "      <td>None</td>\n",
       "      <td>YES</td>\n",
       "      <td>NO</td>\n",
       "      <td>None</td>\n",
       "    </tr>\n",
       "  </tbody>\n",
       "</table>\n",
       "</div>"
      ],
      "text/plain": [
       "         table_catalog table_schema                table_name  table_type  \\\n",
       "15   san_francisco_eis          etl                   arrests  BASE TABLE   \n",
       "16   san_francisco_eis          etl             occ_incidents  BASE TABLE   \n",
       "160  san_francisco_eis          etl             uof_employyee  BASE TABLE   \n",
       "193  san_francisco_eis          etl  uof_employee_subjectlink  BASE TABLE   \n",
       "212  san_francisco_eis          etl                    dem_id  BASE TABLE   \n",
       "\n",
       "    self_referencing_column_name reference_generation  \\\n",
       "15                          None                 None   \n",
       "16                          None                 None   \n",
       "160                         None                 None   \n",
       "193                         None                 None   \n",
       "212                         None                 None   \n",
       "\n",
       "    user_defined_type_catalog user_defined_type_schema user_defined_type_name  \\\n",
       "15                       None                     None                   None   \n",
       "16                       None                     None                   None   \n",
       "160                      None                     None                   None   \n",
       "193                      None                     None                   None   \n",
       "212                      None                     None                   None   \n",
       "\n",
       "    is_insertable_into is_typed commit_action  \n",
       "15                 YES       NO          None  \n",
       "16                 YES       NO          None  \n",
       "160                YES       NO          None  \n",
       "193                YES       NO          None  \n",
       "212                YES       NO          None  "
      ]
     },
     "execution_count": 5,
     "metadata": {},
     "output_type": "execute_result"
    }
   ],
   "source": [
    "etl = tables[tables.table_schema == 'etl']\n",
    "etl.head()"
   ]
  },
  {
   "cell_type": "markdown",
   "metadata": {},
   "source": [
    "First created the etl_randomized schema if it doesn't yet exist"
   ]
  },
  {
   "cell_type": "code",
   "execution_count": 6,
   "metadata": {},
   "outputs": [],
   "source": [
    "statement = \"CREATE SCHEMA IF NOT EXISTS etl_randomized;\"\n",
    "output = execute_sql(statement, dbname, user, host, password, results = False)"
   ]
  },
  {
   "cell_type": "markdown",
   "metadata": {},
   "source": [
    "Randomize every table in etl and write output to etl_randomized"
   ]
  },
  {
   "cell_type": "code",
   "execution_count": 14,
   "metadata": {
    "scrolled": false
   },
   "outputs": [
    {
     "name": "stdout",
     "output_type": "stream",
     "text": [
      "Pulling table arrests\n",
      "\tRandomizing table arrests\n"
     ]
    },
    {
     "ename": "ProgrammingError",
     "evalue": "relation \"etl_randomized.arrests\" does not exist\nLINE 1: SELECT COUNT(*) FROM etl_randomized.arrests;\n                             ^\n",
     "output_type": "error",
     "traceback": [
      "\u001b[0;31m---------------------------------------------------------------------------\u001b[0m",
      "\u001b[0;31mProgrammingError\u001b[0m                          Traceback (most recent call last)",
      "\u001b[0;32m<ipython-input-14-9caf86ad31e4>\u001b[0m in \u001b[0;36m<module>\u001b[0;34m()\u001b[0m\n\u001b[1;32m     15\u001b[0m     \u001b[0;31m# Write results into new table\u001b[0m\u001b[0;34m\u001b[0m\u001b[0;34m\u001b[0m\u001b[0m\n\u001b[1;32m     16\u001b[0m     \u001b[0mstatement\u001b[0m \u001b[0;34m=\u001b[0m \u001b[0;34m\"SELECT COUNT(*) FROM etl_randomized.{};\"\u001b[0m\u001b[0;34m.\u001b[0m\u001b[0mformat\u001b[0m\u001b[0;34m(\u001b[0m\u001b[0mtable_name\u001b[0m\u001b[0;34m)\u001b[0m\u001b[0;34m\u001b[0m\u001b[0m\n\u001b[0;32m---> 17\u001b[0;31m     \u001b[0moutput\u001b[0m \u001b[0;34m=\u001b[0m \u001b[0mexecute_sql\u001b[0m\u001b[0;34m(\u001b[0m\u001b[0mstatement\u001b[0m\u001b[0;34m,\u001b[0m \u001b[0mdbname\u001b[0m\u001b[0;34m,\u001b[0m \u001b[0muser\u001b[0m\u001b[0;34m,\u001b[0m \u001b[0mhost\u001b[0m\u001b[0;34m,\u001b[0m \u001b[0mpassword\u001b[0m\u001b[0;34m)\u001b[0m\u001b[0;34m\u001b[0m\u001b[0m\n\u001b[0m\u001b[1;32m     18\u001b[0m     \u001b[0;32mif\u001b[0m \u001b[0moutput\u001b[0m\u001b[0;34m.\u001b[0m\u001b[0miloc\u001b[0m\u001b[0;34m[\u001b[0m\u001b[0;36m0\u001b[0m\u001b[0;34m]\u001b[0m\u001b[0;34m>\u001b[0m\u001b[0;36m0\u001b[0m\u001b[0;34m:\u001b[0m \u001b[0;31m#  do nothing if new table already contains data\u001b[0m\u001b[0;34m\u001b[0m\u001b[0m\n\u001b[1;32m     19\u001b[0m         \u001b[0mprint\u001b[0m\u001b[0;34m(\u001b[0m\u001b[0;34m\"\\t*****SKIPPING TABLE {} -- it already has data\"\u001b[0m\u001b[0;34m.\u001b[0m\u001b[0mformat\u001b[0m\u001b[0;34m(\u001b[0m\u001b[0mtable_name\u001b[0m\u001b[0;34m)\u001b[0m\u001b[0;34m)\u001b[0m\u001b[0;34m\u001b[0m\u001b[0m\n",
      "\u001b[0;32m<ipython-input-2-39a680a0742c>\u001b[0m in \u001b[0;36mexecute_sql\u001b[0;34m(statement, dbname, user, host, password, results)\u001b[0m\n\u001b[1;32m     12\u001b[0m     \u001b[0mconn\u001b[0m \u001b[0;34m=\u001b[0m \u001b[0mpsycopg2\u001b[0m\u001b[0;34m.\u001b[0m\u001b[0mconnect\u001b[0m\u001b[0;34m(\u001b[0m\u001b[0;34m\"dbname={} user={} host={} password={}\"\u001b[0m\u001b[0;34m.\u001b[0m\u001b[0mformat\u001b[0m\u001b[0;34m(\u001b[0m\u001b[0mdbname\u001b[0m\u001b[0;34m,\u001b[0m \u001b[0muser\u001b[0m\u001b[0;34m,\u001b[0m \u001b[0mhost\u001b[0m\u001b[0;34m,\u001b[0m \u001b[0mpassword\u001b[0m\u001b[0;34m)\u001b[0m\u001b[0;34m)\u001b[0m\u001b[0;34m\u001b[0m\u001b[0m\n\u001b[1;32m     13\u001b[0m     \u001b[0mcur\u001b[0m \u001b[0;34m=\u001b[0m \u001b[0mconn\u001b[0m\u001b[0;34m.\u001b[0m\u001b[0mcursor\u001b[0m\u001b[0;34m(\u001b[0m\u001b[0;34m)\u001b[0m\u001b[0;34m\u001b[0m\u001b[0m\n\u001b[0;32m---> 14\u001b[0;31m     \u001b[0mcur\u001b[0m\u001b[0;34m.\u001b[0m\u001b[0mexecute\u001b[0m\u001b[0;34m(\u001b[0m\u001b[0mstatement\u001b[0m\u001b[0;34m)\u001b[0m\u001b[0;34m\u001b[0m\u001b[0m\n\u001b[0m\u001b[1;32m     15\u001b[0m     \u001b[0mrelation\u001b[0m \u001b[0;34m=\u001b[0m \u001b[0mpd\u001b[0m\u001b[0;34m.\u001b[0m\u001b[0mDataFrame\u001b[0m\u001b[0;34m(\u001b[0m\u001b[0;34m)\u001b[0m\u001b[0;34m\u001b[0m\u001b[0m\n\u001b[1;32m     16\u001b[0m     \u001b[0;32mif\u001b[0m \u001b[0mresults\u001b[0m\u001b[0;34m:\u001b[0m\u001b[0;34m\u001b[0m\u001b[0m\n",
      "\u001b[0;31mProgrammingError\u001b[0m: relation \"etl_randomized.arrests\" does not exist\nLINE 1: SELECT COUNT(*) FROM etl_randomized.arrests;\n                             ^\n"
     ]
    }
   ],
   "source": [
    "for table_name in etl.table_name:\n",
    "    # Pull the table from original schema\n",
    "    print(\"Pulling table {}\".format(table_name))\n",
    "    statement = \"SELECT * FROM etl.{};\".format(table_name)\n",
    "    table = execute_sql(statement, dbname, user, host, password)\n",
    "    \n",
    "    # Randomize the table\n",
    "    print(\"\\tRandomizing table {}\".format(table_name))\n",
    "    randomized_table = randomize(table)\n",
    "    \n",
    "    # Make a new table in etl_randomized schema\n",
    "    statement = \"CREATE TABLE IF NOT EXISTS etl_randomized.{} (LIKE etl.{});\".format(table_name, table_name)\n",
    "    output = execute_sql(statement, dbname, user, host, password, results = False)\n",
    "    \n",
    "    # Write results into new table\n",
    "    statement = \"SELECT COUNT(*) FROM etl_randomized.{};\".format(table_name)\n",
    "    output = execute_sql(statement, dbname, user, host, password)\n",
    "    if output.iloc[0]>0: #  do nothing if new table already contains data\n",
    "        print(\"\\t*****SKIPPING TABLE {} -- it already has data\".format(table_name))\n",
    "    else:\n",
    "        engine = create_engine('postgresql://{}:{}@{}/{}'.format(user, password, host, dbname))\n",
    "        randomized_table.to_sql(table_name, engine, schema = 'etl_randomized', index = False, if_exists='append')"
   ]
  },
  {
   "cell_type": "code",
   "execution_count": 15,
   "metadata": {},
   "outputs": [],
   "source": [
    "statement = \"CREATE TABLE IF NOT EXISTS etl_randomized.{} (LIKE etl.{});\".format(table_name, table_name)\n",
    "output = execute_sql(statement, dbname, user, host, password, results = False)"
   ]
  },
  {
   "cell_type": "code",
   "execution_count": null,
   "metadata": {},
   "outputs": [],
   "source": []
  },
  {
   "cell_type": "code",
   "execution_count": null,
   "metadata": {},
   "outputs": [],
   "source": []
  },
  {
   "cell_type": "code",
   "execution_count": null,
   "metadata": {},
   "outputs": [],
   "source": []
  },
  {
   "cell_type": "code",
   "execution_count": null,
   "metadata": {},
   "outputs": [],
   "source": []
  },
  {
   "cell_type": "code",
   "execution_count": null,
   "metadata": {},
   "outputs": [],
   "source": []
  }
 ],
 "metadata": {
  "kernelspec": {
   "display_name": "Python 3",
   "language": "python",
   "name": "python3"
  },
  "language_info": {
   "codemirror_mode": {
    "name": "ipython",
    "version": 3
   },
   "file_extension": ".py",
   "mimetype": "text/x-python",
   "name": "python",
   "nbconvert_exporter": "python",
   "pygments_lexer": "ipython3",
   "version": "3.4.3"
  }
 },
 "nbformat": 4,
 "nbformat_minor": 2
}
