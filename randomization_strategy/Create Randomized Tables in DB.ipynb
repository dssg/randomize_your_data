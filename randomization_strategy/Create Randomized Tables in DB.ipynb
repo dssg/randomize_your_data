{
 "cells": [
  {
   "cell_type": "markdown",
   "metadata": {},
   "source": [
    "# Randomize raw tables in db to test for data leakage\n",
    "\n",
    "Run this notebook as the first step to test for data leakage in your machine learning pipeline.  \n",
    "Requires a credentials.py file defining the following variables: dbname, user, host, password"
   ]
  },
  {
   "cell_type": "code",
   "execution_count": null,
   "metadata": {},
   "outputs": [],
   "source": [
    "import sys\n",
    "import os\n",
    "import math\n",
    "import warnings\n",
    "\n",
    "import pandas as pd\n",
    "import numpy as np\n",
    "import psycopg2\n",
    "from sqlalchemy import create_engine\n",
    "from IPython.core.interactiveshell import InteractiveShell\n",
    "\n",
    "from credentials import dbname, user, host, password\n",
    "\n",
    "warnings.filterwarnings(action='once')\n",
    "InteractiveShell.ast_node_interactivity = \"all\""
   ]
  },
  {
   "cell_type": "code",
   "execution_count": null,
   "metadata": {},
   "outputs": [],
   "source": [
    "def execute_sql(statement, dbname, user, host, password, isolation = False, results = True):\n",
    "    \"\"\"\n",
    "    Use psycopg2 to execute PostgreSQL queries\n",
    "    \n",
    "    Input:\n",
    "        statement (str): SQL statement to run in database\n",
    "        dbname, user, host, password (str): database credentials\n",
    "        isolation (bool): indicator for whether to change isolation level to autocommit; True for queries that cannot be run \n",
    "            from within a transation (see https://wiki.postgresql.org/wiki/Psycopg2_Tutorial)\n",
    "        results (bool): indicator for whether the query is expected to output results;\n",
    "            for example, True for SELECT statements and False for CREATE TABLE statements\n",
    "    \n",
    "    Output:\n",
    "        relation (dataframe): query results or empty dataframe if results = False\n",
    "    \"\"\"\n",
    "    conn = psycopg2.connect(\"dbname={} user={} host={} password={}\".format(dbname, user, host, password))\n",
    "    cur = conn.cursor()\n",
    "    if isolation:\n",
    "        conn.set_isolation_level(psycopg2.extensions.ISOLATION_LEVEL_AUTOCOMMIT)\n",
    "    cur.execute(statement)\n",
    "    relation = pd.DataFrame()\n",
    "    if results:\n",
    "        results = cur.fetchall()\n",
    "        colnames = [desc[0] for desc in cur.description]\n",
    "        relation = pd.DataFrame(results, columns=colnames)\n",
    "    cur.close()\n",
    "    conn.close()\n",
    "    return relation\n"
   ]
  },
  {
   "cell_type": "code",
   "execution_count": null,
   "metadata": {},
   "outputs": [],
   "source": [
    "def randomize(df, do_not_randomize = None):\n",
    "    \"\"\"\n",
    "    Randomize column values of a file. Each column is randomized independently.\n",
    "    \n",
    "    Inputs:\n",
    "        df (dataframe): dataframe to randomize\n",
    "        do_not_randomize (list): optional list of strings indicating names of \n",
    "            columns that should not be randomized\n",
    "    Outputs:\n",
    "        df (dataframe): dataframe of randomized data\n",
    "    \"\"\"     \n",
    "    df_random = df.copy()\n",
    "    if do_not_randomize:\n",
    "        cols = [c for c in df.columns if c not in do_not_randomize]\n",
    "    else:\n",
    "        cols = df.columns\n",
    "        \n",
    "    for col in cols:\n",
    "        #print('\\t\\tRandomizing column ' + col)\n",
    "        df_random[col] = np.random.permutation(df_random[col])\n",
    "\n",
    "    return df_random"
   ]
  },
  {
   "cell_type": "markdown",
   "metadata": {},
   "source": [
    "Pull the information schema from selected database.  "
   ]
  },
  {
   "cell_type": "code",
   "execution_count": null,
   "metadata": {
    "scrolled": true
   },
   "outputs": [],
   "source": [
    "statement = \"SELECT * FROM information_schema.tables;\"\n",
    "tables = execute_sql(statement, dbname, user, host, password)"
   ]
  },
  {
   "cell_type": "markdown",
   "metadata": {},
   "source": [
    "Select the schema containing raw datasets to be randomized. For this tutorial, the schema is named etl."
   ]
  },
  {
   "cell_type": "code",
   "execution_count": null,
   "metadata": {
    "scrolled": false
   },
   "outputs": [],
   "source": [
    "etl = tables[tables.table_schema == 'etl']\n",
    "etl.head()"
   ]
  },
  {
   "cell_type": "markdown",
   "metadata": {},
   "source": [
    "First created the etl_randomized schema if it doesn't yet exist"
   ]
  },
  {
   "cell_type": "code",
   "execution_count": null,
   "metadata": {},
   "outputs": [],
   "source": [
    "statement = \"CREATE SCHEMA IF NOT EXISTS etl_randomized;\"\n",
    "output = execute_sql(statement, dbname, user, host, password, results = False)"
   ]
  },
  {
   "cell_type": "markdown",
   "metadata": {},
   "source": [
    "Randomize every table in etl and write output to etl_randomized schema"
   ]
  },
  {
   "cell_type": "code",
   "execution_count": null,
   "metadata": {
    "scrolled": false
   },
   "outputs": [],
   "source": [
    "for table_name in etl.table_name:\n",
    "    print(\"Working on table {}\".format(table_name))\n",
    "    \n",
    "    # Pull the table from original schema\n",
    "    print(\"\\tPulling table\")\n",
    "    statement = \"SELECT * FROM etl.{};\".format(table_name)\n",
    "    table = execute_sql(statement, dbname, user, host, password)\n",
    "    \n",
    "    # Randomize the table\n",
    "    print(\"\\tRandomizing\")\n",
    "    randomized_table = randomize(table)\n",
    "    \n",
    "    # Make a new table in etl_randomized schema\n",
    "    print(\"\\tUploading randomized version\")\n",
    "    statement = \"CREATE TABLE IF NOT EXISTS etl_randomized.{} (LIKE etl.{});\".format(table_name, table_name)\n",
    "    output = execute_sql(statement, dbname, user, host, password, isolation = True, results = False)\n",
    "    \n",
    "    # Write results into new table\n",
    "    statement = \"SELECT COUNT(*) FROM etl_randomized.{};\".format(table_name)\n",
    "    output = execute_sql(statement, dbname, user, host, password)\n",
    "    if output.iloc[0,0]>0: #  do nothing if new table already contains data\n",
    "        print(\"\\t*****SKIPPING TABLE {} -- it already has data\".format(table_name))\n",
    "    else:\n",
    "        engine = create_engine('postgresql://{}:{}@{}/{}'.format(user, password, host, dbname))\n",
    "        randomized_table.to_sql(table_name, engine, schema = 'etl_randomized', index = False, if_exists='append')"
   ]
  },
  {
   "cell_type": "markdown",
   "metadata": {},
   "source": [
    "Spot check a few to make sure they're randomized"
   ]
  },
  {
   "cell_type": "code",
   "execution_count": null,
   "metadata": {},
   "outputs": [],
   "source": [
    "statement = \"SELECT * FROM etl_randomized.arrests LIMIT 1;\"\n",
    "output = execute_sql(statement, dbname, user, host, password)\n",
    "output"
   ]
  },
  {
   "cell_type": "code",
   "execution_count": null,
   "metadata": {},
   "outputs": [],
   "source": [
    "statement = \"SELECT * FROM etl.arrests WHERE incident_no = '130856668.0';\"\n",
    "output = execute_sql(statement, dbname, user, host, password)\n",
    "output"
   ]
  },
  {
   "cell_type": "code",
   "execution_count": null,
   "metadata": {},
   "outputs": [],
   "source": [
    "statement = \"SELECT * FROM etl_randomized.eis_complete LIMIT 1;\"\n",
    "output = execute_sql(statement, dbname, user, host, password)\n",
    "output"
   ]
  },
  {
   "cell_type": "code",
   "execution_count": null,
   "metadata": {},
   "outputs": [],
   "source": [
    "statement = \"SELECT * FROM etl.eis_complete WHERE index = '1553';\"\n",
    "output = execute_sql(statement, dbname, user, host, password)\n",
    "output"
   ]
  }
 ],
 "metadata": {
  "kernelspec": {
   "display_name": "Python 3",
   "language": "python",
   "name": "python3"
  },
  "language_info": {
   "codemirror_mode": {
    "name": "ipython",
    "version": 3
   },
   "file_extension": ".py",
   "mimetype": "text/x-python",
   "name": "python",
   "nbconvert_exporter": "python",
   "pygments_lexer": "ipython3",
   "version": "3.6.2"
  }
 },
 "nbformat": 4,
 "nbformat_minor": 2
}
